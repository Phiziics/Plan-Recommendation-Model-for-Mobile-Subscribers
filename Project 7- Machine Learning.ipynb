{
 "cells": [
  {
   "cell_type": "markdown",
   "metadata": {},
   "source": [
    "### Introduction\n",
    "\n",
    "The aim of this project is to develop a machine learning model that can accurately classify subscribers based on their mobile phone usage data and recommend one of Megaline's newer plans, Smart or Ultra. The goal is to analyze the behavior patterns of Megaline's subscribers and identify which plan (Smart or Ultra) best suits their needs.\n",
    "\n",
    "By achieving this, Megaline can offer personalized plan recommendations to its subscribers, leading to an improved customer experience and potential increases in customer satisfaction and retention. The classification model will be evaluated for its performance on a test dataset, with the objective of reaching a minimum accuracy of 0.75.\n",
    "\n",
    "In summary, the project aims to:\n",
    "\n",
    "Develop a classification model that can accurately predict whether a subscriber should switch to the Smart or Ultra plan based on their mobile usage data.\n",
    "Analyze and understand the behavior patterns of Megaline's subscribers.\n",
    "Enhance customer satisfaction and retention through personalized plan recommendations that align with each subscriber's unique usage profile."
   ]
  },
  {
   "cell_type": "markdown",
   "metadata": {},
   "source": [
    "### Importing Libraries and Cleaning the data"
   ]
  },
  {
   "cell_type": "code",
   "execution_count": 1,
   "metadata": {},
   "outputs": [],
   "source": [
    "#importing the necessary libraries\n",
    "import pandas as pd\n",
    "from sklearn.ensemble import RandomForestClassifier\n",
    "from sklearn.tree import DecisionTreeClassifier\n",
    "from sklearn.linear_model import LogisticRegression\n",
    "from sklearn.metrics import accuracy_score\n",
    "import numpy as np\n",
    "import matplotlib.pyplot as plt\n",
    "import seaborn as sns\n",
    "from sklearn.metrics import mean_squared_error"
   ]
  },
  {
   "cell_type": "code",
   "execution_count": 2,
   "metadata": {},
   "outputs": [],
   "source": [
    "#reading the csv file into a data frame\n",
    "df = pd.read_csv('/datasets/users_behavior.csv')"
   ]
  },
  {
   "cell_type": "code",
   "execution_count": 3,
   "metadata": {},
   "outputs": [
    {
     "data": {
      "text/html": [
       "<div>\n",
       "<style scoped>\n",
       "    .dataframe tbody tr th:only-of-type {\n",
       "        vertical-align: middle;\n",
       "    }\n",
       "\n",
       "    .dataframe tbody tr th {\n",
       "        vertical-align: top;\n",
       "    }\n",
       "\n",
       "    .dataframe thead th {\n",
       "        text-align: right;\n",
       "    }\n",
       "</style>\n",
       "<table border=\"1\" class=\"dataframe\">\n",
       "  <thead>\n",
       "    <tr style=\"text-align: right;\">\n",
       "      <th></th>\n",
       "      <th>calls</th>\n",
       "      <th>minutes</th>\n",
       "      <th>messages</th>\n",
       "      <th>mb_used</th>\n",
       "      <th>is_ultra</th>\n",
       "    </tr>\n",
       "  </thead>\n",
       "  <tbody>\n",
       "    <tr>\n",
       "      <th>0</th>\n",
       "      <td>40.0</td>\n",
       "      <td>311.90</td>\n",
       "      <td>83.0</td>\n",
       "      <td>19915.42</td>\n",
       "      <td>0</td>\n",
       "    </tr>\n",
       "    <tr>\n",
       "      <th>1</th>\n",
       "      <td>85.0</td>\n",
       "      <td>516.75</td>\n",
       "      <td>56.0</td>\n",
       "      <td>22696.96</td>\n",
       "      <td>0</td>\n",
       "    </tr>\n",
       "    <tr>\n",
       "      <th>2</th>\n",
       "      <td>77.0</td>\n",
       "      <td>467.66</td>\n",
       "      <td>86.0</td>\n",
       "      <td>21060.45</td>\n",
       "      <td>0</td>\n",
       "    </tr>\n",
       "    <tr>\n",
       "      <th>3</th>\n",
       "      <td>106.0</td>\n",
       "      <td>745.53</td>\n",
       "      <td>81.0</td>\n",
       "      <td>8437.39</td>\n",
       "      <td>1</td>\n",
       "    </tr>\n",
       "    <tr>\n",
       "      <th>4</th>\n",
       "      <td>66.0</td>\n",
       "      <td>418.74</td>\n",
       "      <td>1.0</td>\n",
       "      <td>14502.75</td>\n",
       "      <td>0</td>\n",
       "    </tr>\n",
       "    <tr>\n",
       "      <th>...</th>\n",
       "      <td>...</td>\n",
       "      <td>...</td>\n",
       "      <td>...</td>\n",
       "      <td>...</td>\n",
       "      <td>...</td>\n",
       "    </tr>\n",
       "    <tr>\n",
       "      <th>3209</th>\n",
       "      <td>122.0</td>\n",
       "      <td>910.98</td>\n",
       "      <td>20.0</td>\n",
       "      <td>35124.90</td>\n",
       "      <td>1</td>\n",
       "    </tr>\n",
       "    <tr>\n",
       "      <th>3210</th>\n",
       "      <td>25.0</td>\n",
       "      <td>190.36</td>\n",
       "      <td>0.0</td>\n",
       "      <td>3275.61</td>\n",
       "      <td>0</td>\n",
       "    </tr>\n",
       "    <tr>\n",
       "      <th>3211</th>\n",
       "      <td>97.0</td>\n",
       "      <td>634.44</td>\n",
       "      <td>70.0</td>\n",
       "      <td>13974.06</td>\n",
       "      <td>0</td>\n",
       "    </tr>\n",
       "    <tr>\n",
       "      <th>3212</th>\n",
       "      <td>64.0</td>\n",
       "      <td>462.32</td>\n",
       "      <td>90.0</td>\n",
       "      <td>31239.78</td>\n",
       "      <td>0</td>\n",
       "    </tr>\n",
       "    <tr>\n",
       "      <th>3213</th>\n",
       "      <td>80.0</td>\n",
       "      <td>566.09</td>\n",
       "      <td>6.0</td>\n",
       "      <td>29480.52</td>\n",
       "      <td>1</td>\n",
       "    </tr>\n",
       "  </tbody>\n",
       "</table>\n",
       "<p>3214 rows × 5 columns</p>\n",
       "</div>"
      ],
      "text/plain": [
       "      calls  minutes  messages   mb_used  is_ultra\n",
       "0      40.0   311.90      83.0  19915.42         0\n",
       "1      85.0   516.75      56.0  22696.96         0\n",
       "2      77.0   467.66      86.0  21060.45         0\n",
       "3     106.0   745.53      81.0   8437.39         1\n",
       "4      66.0   418.74       1.0  14502.75         0\n",
       "...     ...      ...       ...       ...       ...\n",
       "3209  122.0   910.98      20.0  35124.90         1\n",
       "3210   25.0   190.36       0.0   3275.61         0\n",
       "3211   97.0   634.44      70.0  13974.06         0\n",
       "3212   64.0   462.32      90.0  31239.78         0\n",
       "3213   80.0   566.09       6.0  29480.52         1\n",
       "\n",
       "[3214 rows x 5 columns]"
      ]
     },
     "execution_count": 3,
     "metadata": {},
     "output_type": "execute_result"
    }
   ],
   "source": [
    "#printing the dataframe which displays the head and the tail, which is the first 5 rows and last 5 rows\n",
    "df"
   ]
  },
  {
   "cell_type": "code",
   "execution_count": 4,
   "metadata": {},
   "outputs": [
    {
     "data": {
      "text/plain": [
       "0"
      ]
     },
     "execution_count": 4,
     "metadata": {},
     "output_type": "execute_result"
    }
   ],
   "source": [
    "#check for duplicated rows\n",
    "df.duplicated().sum()"
   ]
  },
  {
   "cell_type": "code",
   "execution_count": 5,
   "metadata": {},
   "outputs": [
    {
     "data": {
      "text/plain": [
       "calls       0\n",
       "minutes     0\n",
       "messages    0\n",
       "mb_used     0\n",
       "is_ultra    0\n",
       "dtype: int64"
      ]
     },
     "execution_count": 5,
     "metadata": {},
     "output_type": "execute_result"
    }
   ],
   "source": [
    "#check for missing values/ null values\n",
    "df.isnull().sum()"
   ]
  },
  {
   "cell_type": "code",
   "execution_count": 6,
   "metadata": {},
   "outputs": [
    {
     "name": "stdout",
     "output_type": "stream",
     "text": [
      "<class 'pandas.core.frame.DataFrame'>\n",
      "RangeIndex: 3214 entries, 0 to 3213\n",
      "Data columns (total 5 columns):\n",
      " #   Column    Non-Null Count  Dtype  \n",
      "---  ------    --------------  -----  \n",
      " 0   calls     3214 non-null   float64\n",
      " 1   minutes   3214 non-null   float64\n",
      " 2   messages  3214 non-null   float64\n",
      " 3   mb_used   3214 non-null   float64\n",
      " 4   is_ultra  3214 non-null   int64  \n",
      "dtypes: float64(4), int64(1)\n",
      "memory usage: 125.7 KB\n"
     ]
    }
   ],
   "source": [
    "#checking the data types using the info method\n",
    "df.info()"
   ]
  },
  {
   "cell_type": "code",
   "execution_count": 7,
   "metadata": {},
   "outputs": [],
   "source": [
    "#changing the messages datatype\n",
    "df['messages'] = df['messages'].astype(int)"
   ]
  },
  {
   "cell_type": "code",
   "execution_count": 8,
   "metadata": {
    "scrolled": true
   },
   "outputs": [
    {
     "name": "stdout",
     "output_type": "stream",
     "text": [
      "<class 'pandas.core.frame.DataFrame'>\n",
      "RangeIndex: 3214 entries, 0 to 3213\n",
      "Data columns (total 5 columns):\n",
      " #   Column    Non-Null Count  Dtype  \n",
      "---  ------    --------------  -----  \n",
      " 0   calls     3214 non-null   float64\n",
      " 1   minutes   3214 non-null   float64\n",
      " 2   messages  3214 non-null   int64  \n",
      " 3   mb_used   3214 non-null   float64\n",
      " 4   is_ultra  3214 non-null   int64  \n",
      "dtypes: float64(3), int64(2)\n",
      "memory usage: 125.7 KB\n"
     ]
    }
   ],
   "source": [
    "#checking to see changes\n",
    "df.info()"
   ]
  },
  {
   "cell_type": "markdown",
   "metadata": {},
   "source": [
    "### Creating ML Models"
   ]
  },
  {
   "cell_type": "code",
   "execution_count": 9,
   "metadata": {},
   "outputs": [
    {
     "name": "stdout",
     "output_type": "stream",
     "text": [
      "Shape of the train dataframe: (1928, 5)\n",
      "Shape of valid dataframe: (643, 5)\n",
      "Shape of Test dataframe: (643, 5)\n"
     ]
    }
   ],
   "source": [
    "# Split data frame into train, valid, and test dataframes in a 3:1:1 ratio\n",
    "from sklearn.model_selection import train_test_split\n",
    "\n",
    "train_df, temp_df = train_test_split(df, test_size=0.4, random_state=77)\n",
    "valid_df, test_df = train_test_split(temp_df, test_size=0.5, random_state=77)\n",
    "\n",
    "print(f\"Shape of the train dataframe: {train_df.shape}\")\n",
    "print(f\"Shape of valid dataframe: {valid_df.shape}\")\n",
    "print(f\"Shape of Test dataframe: {test_df.shape}\")"
   ]
  },
  {
   "cell_type": "code",
   "execution_count": 10,
   "metadata": {},
   "outputs": [],
   "source": [
    "#creating feature and target for each dataframes also known as X and y\n",
    "train_features, train_target = train_df.drop(['is_ultra'], axis=1), train_df['is_ultra']\n",
    "valid_features, valid_target = valid_df.drop(['is_ultra'], axis=1), valid_df['is_ultra']\n",
    "test_features, test_target = test_df.drop(['is_ultra'], axis=1), test_df['is_ultra']"
   ]
  },
  {
   "cell_type": "code",
   "execution_count": 11,
   "metadata": {},
   "outputs": [
    {
     "name": "stdout",
     "output_type": "stream",
     "text": [
      "Best model: DecisionTreeClassifier(max_depth=7, random_state=77)\n",
      "Accuracy of the best model: 0.7916018662519441\n"
     ]
    }
   ],
   "source": [
    "best_model = None\n",
    "best_result = 0\n",
    "for depth in range(1, 8):\n",
    "    # create a model with the given depth\n",
    "    tree_model = DecisionTreeClassifier(random_state=77, max_depth=depth)\n",
    "    # train the model\n",
    "    tree_model.fit(train_features, train_target)\n",
    "    # get the model's predictions\n",
    "    tree_predictions = tree_model.predict(valid_features)\n",
    "    # calculate the accuracy\n",
    "    result = accuracy_score(valid_target, tree_predictions) \n",
    "    if result > best_result:\n",
    "        best_model = tree_model\n",
    "        best_result = result\n",
    "\n",
    "print(\"Best model:\", tree_model)\n",
    "print(\"Accuracy of the best model:\", best_result)"
   ]
  },
  {
   "cell_type": "code",
   "execution_count": 12,
   "metadata": {},
   "outputs": [
    {
     "name": "stdout",
     "output_type": "stream",
     "text": [
      "Accuracy of the best random forest model on the validation set (n_estimators = 14): 0.7931570762052877\n"
     ]
    }
   ],
   "source": [
    "best_score = 0\n",
    "best_est = 0\n",
    "# choose hyperparameter range\n",
    "for est in range(1,18):\n",
    "    # set number of trees\n",
    "    forest_model = RandomForestClassifier(random_state=77, n_estimators=est)\n",
    "    # train model on training set\n",
    "    forest_model.fit(train_features, train_target)\n",
    "    # calculate accuracy score on validation set\n",
    "    score = forest_model.score(valid_features, valid_target)\n",
    "    if score > best_score:\n",
    "        # save best accuracy score on validation set\n",
    "        best_score = score\n",
    "        # save number of estimators corresponding to best accuracy score\n",
    "        best_est = est\n",
    "\n",
    "print(f\"Accuracy of the best random forest model on the validation set (n_estimators = {best_est}): {best_score}\")"
   ]
  },
  {
   "cell_type": "code",
   "execution_count": 13,
   "metadata": {},
   "outputs": [
    {
     "name": "stdout",
     "output_type": "stream",
     "text": [
      "Accuracy of the logistic regression model on the validation set: 0.7060653188180405\n"
     ]
    }
   ],
   "source": [
    "#Logistic Regresiion training and testing\n",
    "lr_model = LogisticRegression(random_state=77, solver='liblinear')  # initialize logistic regression constructor with parameters random_state=54321 and solver='liblinear'\n",
    "#Train model on training set\n",
    "lr_model.fit(train_features, train_target)\n",
    "\n",
    "#calculate accuracy score on training set\n",
    "score_valid = lr_model.score(valid_features, valid_target)\n",
    "\n",
    "print(\"Accuracy of the logistic regression model on the validation set:\", score_valid)"
   ]
  },
  {
   "cell_type": "markdown",
   "metadata": {},
   "source": [
    "From the above ML training we see that the best performing algorithm is the Random Forest. Hence we will use that as the final model and test it against the test dataframe."
   ]
  },
  {
   "cell_type": "code",
   "execution_count": 14,
   "metadata": {},
   "outputs": [
    {
     "name": "stdout",
     "output_type": "stream",
     "text": [
      "Accuracy score of the algorithm on the test dataframe is: 0.8087091757387247\n"
     ]
    }
   ],
   "source": [
    "# Testing the random forest algothim agaisnt the test dataframe\n",
    "# change n_estimators to get best model\n",
    "final_model = RandomForestClassifier(random_state=77, n_estimators=14)\n",
    "final_model.fit(train_features, train_target)\n",
    "\n",
    "# get the model's predictions\n",
    "final_predictions = final_model.predict(test_features)\n",
    "# calculate the accuracy\n",
    "result = accuracy_score(test_target, final_predictions)\n",
    "\n",
    "print(f\"Accuracy score of the algorithm on the test dataframe is: {result}\")"
   ]
  },
  {
   "cell_type": "code",
   "execution_count": 15,
   "metadata": {},
   "outputs": [
    {
     "data": {
      "text/plain": [
       "0.19129082426127528"
      ]
     },
     "execution_count": 15,
     "metadata": {},
     "output_type": "execute_result"
    }
   ],
   "source": [
    "#Mean squared error\n",
    "mse = mean_squared_error(test_target, final_predictions)\n",
    "mse"
   ]
  },
  {
   "cell_type": "markdown",
   "metadata": {},
   "source": [
    "The MSE is approximately 0.1913.\n",
    "A lower MSE value indicates that the model's predictions are closer to the actual values, suggesting better model performance. "
   ]
  },
  {
   "cell_type": "markdown",
   "metadata": {},
   "source": [
    "### Confusion Matrix"
   ]
  },
  {
   "cell_type": "code",
   "execution_count": 16,
   "metadata": {},
   "outputs": [
    {
     "name": "stdout",
     "output_type": "stream",
     "text": [
      "Confusion Matrix:\n",
      "[[406  41]\n",
      " [ 82 114]]\n"
     ]
    }
   ],
   "source": [
    "from sklearn.metrics import confusion_matrix, classification_report\n",
    "\n",
    "# Calculate and display confusion matrix\n",
    "conf_matrix = confusion_matrix(test_target, final_predictions)\n",
    "print(\"Confusion Matrix:\")\n",
    "print(conf_matrix)"
   ]
  },
  {
   "cell_type": "code",
   "execution_count": 17,
   "metadata": {},
   "outputs": [
    {
     "data": {
      "image/png": "[encoded data removed]",
      "text/plain": [
       "<Figure size 576x432 with 1 Axes>"
      ]
     },
     "metadata": {
      "needs_background": "light"
     },
     "output_type": "display_data"
    }
   ],
   "source": [
    "# Create a heatmap of the confusion matrix\n",
    "plt.figure(figsize=(8, 6))\n",
    "sns.heatmap(conf_matrix, annot=True, fmt='d', cmap='Blues', cbar=False, xticklabels=np.unique(test_target), yticklabels=np.unique(test_target))\n",
    "plt.xlabel('Predicted')\n",
    "plt.ylabel('Actual')\n",
    "plt.title('Confusion Matrix Heatmap')\n",
    "plt.show()"
   ]
  },
  {
   "cell_type": "markdown",
   "metadata": {},
   "source": [
    "From the above graph, there were 406 true positives/ correct positive prediction and 41 false positives/ 41 incorrect positive predictions, while there was 114 true negatives/ correct negative predictions and 82 false negatives/ incorrect negative predictions.\n",
    "\n",
    "From the matix we can calculate:\n",
    "- Precision- TP/(TP+FP) where TP is true positives (correctly predicted positives), and FP is false positives (incorrectly predicted positives). Precision indicates how many of the model's positive predictions were actually correct. High precision means that the model is making very few false positive predictions.\n",
    "114/(114+41) = 114/155 = 0.735\n",
    "\n",
    "- Recall- TP/(TP+FN) where TP is true positives (correctly predicted positives), and FN is false negatives (actual positives not predicted).\n",
    "114/(114+82) = 114/196 = 0.581\n",
    "\n",
    "- F1-Score- 2*(Precision*Recall)/ (Precision+Recall) he F1-score is a comprehensive metric that combines both precision and recall into a single score. It is useful when you want to find a balance between precision and recall, especially if one metric is disproportionately higher than the other.\n",
    "2*(0.74*0.58)/(0.74+0.58) = 2*(0.43)/1.32 = 0.86/1.32 = 0.65\n",
    "\n",
    "We can further calculate more data with the classification report below:"
   ]
  },
  {
   "cell_type": "code",
   "execution_count": 18,
   "metadata": {
    "scrolled": true
   },
   "outputs": [
    {
     "name": "stdout",
     "output_type": "stream",
     "text": [
      "\n",
      "Classification Report:\n",
      "              precision    recall  f1-score   support\n",
      "\n",
      "           0       0.83      0.91      0.87       447\n",
      "           1       0.74      0.58      0.65       196\n",
      "\n",
      "    accuracy                           0.81       643\n",
      "   macro avg       0.78      0.74      0.76       643\n",
      "weighted avg       0.80      0.81      0.80       643\n",
      "\n"
     ]
    }
   ],
   "source": [
    "# Calculate and display precision, recall, and F1 score\n",
    "print(\"\\nClassification Report:\")\n",
    "print(classification_report(test_target, final_predictions))"
   ]
  },
  {
   "cell_type": "markdown",
   "metadata": {},
   "source": [
    "The classification report summarizes the model's performance across different classes:\n",
    "\n",
    "- Precision measures the proportion of correct positive predictions out of all predicted positives. High precision implies accurate positive class predictions. Class 0 has a precision of 0.83, showing strong accuracy for the negative class. Class 1's precision is 0.74, indicating somewhat accurate positive class predictions.\n",
    "\n",
    "- Recall measures the proportion of correct positive predictions out of all actual positive cases. High recall indicates successful identification of most actual positive cases. Class 0's recall of 0.91 demonstrates excellent identification of negative cases. Class 1's recall is 0.58, indicating missed positive cases.\n",
    "\n",
    "- F1-Score is the harmonic mean of precision and recall, balancing the trade-off between them. Class 0 has an F1-score of 0.87, indicating a strong balance for the negative class. Class 1's F1-score of 0.65 suggests room for improvement in balancing precision and recall.\n",
    "\n",
    "- Support is the count of each class in the dataset, with 447 instances of class 0 and 196 instances of class 1.\n",
    "\n",
    "Overall accuracy of 0.81 means the model correctly classified 81% of observations.\n",
    "Macro and weighted averages calculate the average precision, recall, and F1-score across classes, with macro average giving equal weight to each class, and weighted average adjusting for class support.\n",
    "In summary, the model excels at classifying the negative class (class 0), but improvement is needed for identifying the positive class (class 1)."
   ]
  },
  {
   "cell_type": "markdown",
   "metadata": {},
   "source": [
    "### Conclusion\n",
    "#### Machine Learning Models\n",
    "In this project, we aimed to develop a model that can accurately classify Megaline's subscribers based on their mobile phone usage data and recommend one of the company's newer plans, Smart or Ultra. We explored three different machine learning models: decision tree, random forest, and logistic regression, and evaluated their performance on test and validation datasets.\n",
    "\n",
    "- The decision tree model (DecisionTreeClassifier with a maximum depth of 7 and a random state of 77) achieved an accuracy of 0.7916 on the test set. This model offers interpretability and simplicity, making it a solid choice for classification tasks.\n",
    "\n",
    "- The random forest model (RandomForestClassifier with 14 estimators) performed the best, achieving an accuracy of 0.7932 on the validation set. This model demonstrates strong predictive accuracy and robustness due to its ensemble approach, making it the top performer in this study.\n",
    "\n",
    "- The logistic regression model achieved an accuracy of 0.7061 on the validation set. While logistic regression is a straightforward classification algorithm, its performance in this specific task was not as strong compared to the other models.\n",
    "\n",
    "- Based on the results, the random forest model stands out as the most suitable choice for this task due to its slightly higher accuracy and robust performance. However, the decision tree model remains a strong alternative, providing a more interpretable model.\n",
    "\n",
    "- Future work could involve fine-tuning the chosen models, exploring other types of algorithms, or incorporating additional data features to further improve classification accuracy. Additionally, monitoring model performance over time can ensure that the model remains effective as subscriber behavior patterns evolve.\n",
    "\n",
    "#### Confusion Matrix\n",
    "- The classification report shows that the model performs well in classifying the negative class (class 0) with high precision (0.83) and recall (0.91), leading to an F1-score of 0.87. However, the model struggles more with classifying the positive class (class 1), with lower precision (0.74) and recall (0.58), resulting in an F1-score of 0.65. The overall accuracy of 0.81 is good, but there is room for improvement in identifying positive cases more accurately to achieve a better balance between precision and recall across both classes."
   ]
  }
 ],
 "metadata": {
  "kernelspec": {
   "display_name": "Python 3 (ipykernel)",
   "language": "python",
   "name": "python3"
  },
  "language_info": {
   "codemirror_mode": {
    "name": "ipython",
    "version": 3
   },
   "file_extension": ".py",
   "mimetype": "text/x-python",
   "name": "python",
   "nbconvert_exporter": "python",
   "pygments_lexer": "ipython3",
   "version": "3.9.19"
  },
  "toc": {
   "base_numbering": 1,
   "nav_menu": {},
   "number_sections": true,
   "sideBar": true,
   "skip_h1_title": true,
   "title_cell": "Table of Contents",
   "title_sidebar": "Contents",
   "toc_cell": false,
   "toc_position": {},
   "toc_section_display": true,
   "toc_window_display": false
  }
 },
 "nbformat": 4,
 "nbformat_minor": 2
}
